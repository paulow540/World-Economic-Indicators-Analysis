{
 "cells": [
  {
   "cell_type": "code",
   "execution_count": 1,
   "id": "b5abad20",
   "metadata": {},
   "outputs": [],
   "source": [
    "import numpy as np\n",
    "import pandas as pd\n",
    "import seaborn as sns\n",
    "import matplotlib.pyplot as plt\n",
    "%matplotlib inline\n",
    "import plotly.express as px"
   ]
  },
  {
   "cell_type": "code",
   "execution_count": 2,
   "id": "96ae8492",
   "metadata": {},
   "outputs": [
    {
     "data": {
      "text/html": [
       "<div>\n",
       "<style scoped>\n",
       "    .dataframe tbody tr th:only-of-type {\n",
       "        vertical-align: middle;\n",
       "    }\n",
       "\n",
       "    .dataframe tbody tr th {\n",
       "        vertical-align: top;\n",
       "    }\n",
       "\n",
       "    .dataframe thead th {\n",
       "        text-align: right;\n",
       "    }\n",
       "</style>\n",
       "<table border=\"1\" class=\"dataframe\">\n",
       "  <thead>\n",
       "    <tr style=\"text-align: right;\">\n",
       "      <th></th>\n",
       "      <th>Country Name</th>\n",
       "      <th>Country Code</th>\n",
       "      <th>Region</th>\n",
       "      <th>IncomeGroup</th>\n",
       "      <th>Year</th>\n",
       "      <th>Birth rate, crude (per 1,000 people)</th>\n",
       "      <th>Death rate, crude (per 1,000 people)</th>\n",
       "      <th>Electric power consumption (kWh per capita)</th>\n",
       "      <th>GDP (USD)</th>\n",
       "      <th>GDP per capita (USD)</th>\n",
       "      <th>Individuals using the Internet (% of population)</th>\n",
       "      <th>Infant mortality rate (per 1,000 live births)</th>\n",
       "      <th>Life expectancy at birth (years)</th>\n",
       "      <th>Population density (people per sq. km of land area)</th>\n",
       "      <th>Unemployment (% of total labor force) (modeled ILO estimate)</th>\n",
       "    </tr>\n",
       "  </thead>\n",
       "  <tbody>\n",
       "    <tr>\n",
       "      <th>0</th>\n",
       "      <td>Afghanistan</td>\n",
       "      <td>AFG</td>\n",
       "      <td>South Asia</td>\n",
       "      <td>Low income</td>\n",
       "      <td>2018</td>\n",
       "      <td>NaN</td>\n",
       "      <td>NaN</td>\n",
       "      <td>NaN</td>\n",
       "      <td>1.936300e+10</td>\n",
       "      <td>520.897</td>\n",
       "      <td>NaN</td>\n",
       "      <td>47.9</td>\n",
       "      <td>NaN</td>\n",
       "      <td>56.9378</td>\n",
       "      <td>1.542</td>\n",
       "    </tr>\n",
       "    <tr>\n",
       "      <th>1</th>\n",
       "      <td>Afghanistan</td>\n",
       "      <td>AFG</td>\n",
       "      <td>South Asia</td>\n",
       "      <td>Low income</td>\n",
       "      <td>2017</td>\n",
       "      <td>33.211</td>\n",
       "      <td>6.575</td>\n",
       "      <td>NaN</td>\n",
       "      <td>2.019180e+10</td>\n",
       "      <td>556.302</td>\n",
       "      <td>13.50</td>\n",
       "      <td>49.5</td>\n",
       "      <td>64.130</td>\n",
       "      <td>55.5960</td>\n",
       "      <td>1.559</td>\n",
       "    </tr>\n",
       "    <tr>\n",
       "      <th>2</th>\n",
       "      <td>Afghanistan</td>\n",
       "      <td>AFG</td>\n",
       "      <td>South Asia</td>\n",
       "      <td>Low income</td>\n",
       "      <td>2016</td>\n",
       "      <td>33.981</td>\n",
       "      <td>6.742</td>\n",
       "      <td>NaN</td>\n",
       "      <td>1.936260e+10</td>\n",
       "      <td>547.228</td>\n",
       "      <td>11.20</td>\n",
       "      <td>51.2</td>\n",
       "      <td>63.763</td>\n",
       "      <td>54.1971</td>\n",
       "      <td>1.634</td>\n",
       "    </tr>\n",
       "    <tr>\n",
       "      <th>3</th>\n",
       "      <td>Afghanistan</td>\n",
       "      <td>AFG</td>\n",
       "      <td>South Asia</td>\n",
       "      <td>Low income</td>\n",
       "      <td>2015</td>\n",
       "      <td>34.809</td>\n",
       "      <td>6.929</td>\n",
       "      <td>NaN</td>\n",
       "      <td>1.990710e+10</td>\n",
       "      <td>578.466</td>\n",
       "      <td>8.26</td>\n",
       "      <td>53.1</td>\n",
       "      <td>63.377</td>\n",
       "      <td>52.7121</td>\n",
       "      <td>1.679</td>\n",
       "    </tr>\n",
       "  </tbody>\n",
       "</table>\n",
       "</div>"
      ],
      "text/plain": [
       "  Country Name Country Code      Region IncomeGroup  Year  \\\n",
       "0  Afghanistan          AFG  South Asia  Low income  2018   \n",
       "1  Afghanistan          AFG  South Asia  Low income  2017   \n",
       "2  Afghanistan          AFG  South Asia  Low income  2016   \n",
       "3  Afghanistan          AFG  South Asia  Low income  2015   \n",
       "\n",
       "   Birth rate, crude (per 1,000 people)  Death rate, crude (per 1,000 people)  \\\n",
       "0                                   NaN                                   NaN   \n",
       "1                                33.211                                 6.575   \n",
       "2                                33.981                                 6.742   \n",
       "3                                34.809                                 6.929   \n",
       "\n",
       "   Electric power consumption (kWh per capita)     GDP (USD)  \\\n",
       "0                                          NaN  1.936300e+10   \n",
       "1                                          NaN  2.019180e+10   \n",
       "2                                          NaN  1.936260e+10   \n",
       "3                                          NaN  1.990710e+10   \n",
       "\n",
       "   GDP per capita (USD)  Individuals using the Internet (% of population)  \\\n",
       "0               520.897                                               NaN   \n",
       "1               556.302                                             13.50   \n",
       "2               547.228                                             11.20   \n",
       "3               578.466                                              8.26   \n",
       "\n",
       "   Infant mortality rate (per 1,000 live births)  \\\n",
       "0                                           47.9   \n",
       "1                                           49.5   \n",
       "2                                           51.2   \n",
       "3                                           53.1   \n",
       "\n",
       "   Life expectancy at birth (years)  \\\n",
       "0                               NaN   \n",
       "1                            64.130   \n",
       "2                            63.763   \n",
       "3                            63.377   \n",
       "\n",
       "   Population density (people per sq. km of land area)  \\\n",
       "0                                            56.9378     \n",
       "1                                            55.5960     \n",
       "2                                            54.1971     \n",
       "3                                            52.7121     \n",
       "\n",
       "   Unemployment (% of total labor force) (modeled ILO estimate)  \n",
       "0                                              1.542             \n",
       "1                                              1.559             \n",
       "2                                              1.634             \n",
       "3                                              1.679             "
      ]
     },
     "execution_count": 2,
     "metadata": {},
     "output_type": "execute_result"
    }
   ],
   "source": [
    "wd = pd.read_excel(\"WorldBank.xlsx\")\n",
    "wd.head(4)"
   ]
  },
  {
   "cell_type": "code",
   "execution_count": 3,
   "id": "0fb4c61a",
   "metadata": {},
   "outputs": [
    {
     "data": {
      "text/html": [
       "<div>\n",
       "<style scoped>\n",
       "    .dataframe tbody tr th:only-of-type {\n",
       "        vertical-align: middle;\n",
       "    }\n",
       "\n",
       "    .dataframe tbody tr th {\n",
       "        vertical-align: top;\n",
       "    }\n",
       "\n",
       "    .dataframe thead th {\n",
       "        text-align: right;\n",
       "    }\n",
       "</style>\n",
       "<table border=\"1\" class=\"dataframe\">\n",
       "  <thead>\n",
       "    <tr style=\"text-align: right;\">\n",
       "      <th></th>\n",
       "      <th>iso3</th>\n",
       "      <th>country</th>\n",
       "      <th>hdicode</th>\n",
       "      <th>region</th>\n",
       "      <th>hdi_rank_2021</th>\n",
       "      <th>hdi_1990</th>\n",
       "      <th>hdi_1991</th>\n",
       "      <th>hdi_1992</th>\n",
       "      <th>hdi_1993</th>\n",
       "      <th>hdi_1994</th>\n",
       "      <th>...</th>\n",
       "      <th>mf_2012</th>\n",
       "      <th>mf_2013</th>\n",
       "      <th>mf_2014</th>\n",
       "      <th>mf_2015</th>\n",
       "      <th>mf_2016</th>\n",
       "      <th>mf_2017</th>\n",
       "      <th>mf_2018</th>\n",
       "      <th>mf_2019</th>\n",
       "      <th>mf_2020</th>\n",
       "      <th>mf_2021</th>\n",
       "    </tr>\n",
       "  </thead>\n",
       "  <tbody>\n",
       "    <tr>\n",
       "      <th>0</th>\n",
       "      <td>AFG</td>\n",
       "      <td>Afghanistan</td>\n",
       "      <td>Low</td>\n",
       "      <td>SA</td>\n",
       "      <td>180.0</td>\n",
       "      <td>0.273</td>\n",
       "      <td>0.279</td>\n",
       "      <td>0.287</td>\n",
       "      <td>0.297</td>\n",
       "      <td>0.292</td>\n",
       "      <td>...</td>\n",
       "      <td>1.86</td>\n",
       "      <td>1.88</td>\n",
       "      <td>1.66</td>\n",
       "      <td>1.62</td>\n",
       "      <td>1.66</td>\n",
       "      <td>1.41</td>\n",
       "      <td>1.32</td>\n",
       "      <td>1.38</td>\n",
       "      <td>1.38</td>\n",
       "      <td>1.38</td>\n",
       "    </tr>\n",
       "    <tr>\n",
       "      <th>1</th>\n",
       "      <td>AGO</td>\n",
       "      <td>Angola</td>\n",
       "      <td>Medium</td>\n",
       "      <td>SSA</td>\n",
       "      <td>148.0</td>\n",
       "      <td>NaN</td>\n",
       "      <td>NaN</td>\n",
       "      <td>NaN</td>\n",
       "      <td>NaN</td>\n",
       "      <td>NaN</td>\n",
       "      <td>...</td>\n",
       "      <td>4.09</td>\n",
       "      <td>4.53</td>\n",
       "      <td>3.97</td>\n",
       "      <td>3.59</td>\n",
       "      <td>2.79</td>\n",
       "      <td>2.64</td>\n",
       "      <td>2.28</td>\n",
       "      <td>2.18</td>\n",
       "      <td>2.18</td>\n",
       "      <td>2.18</td>\n",
       "    </tr>\n",
       "    <tr>\n",
       "      <th>2</th>\n",
       "      <td>ALB</td>\n",
       "      <td>Albania</td>\n",
       "      <td>High</td>\n",
       "      <td>ECA</td>\n",
       "      <td>67.0</td>\n",
       "      <td>0.647</td>\n",
       "      <td>0.629</td>\n",
       "      <td>0.614</td>\n",
       "      <td>0.617</td>\n",
       "      <td>0.624</td>\n",
       "      <td>...</td>\n",
       "      <td>12.44</td>\n",
       "      <td>11.49</td>\n",
       "      <td>13.14</td>\n",
       "      <td>12.61</td>\n",
       "      <td>14.39</td>\n",
       "      <td>14.46</td>\n",
       "      <td>12.85</td>\n",
       "      <td>12.96</td>\n",
       "      <td>12.96</td>\n",
       "      <td>12.96</td>\n",
       "    </tr>\n",
       "  </tbody>\n",
       "</table>\n",
       "<p>3 rows × 1008 columns</p>\n",
       "</div>"
      ],
      "text/plain": [
       "  iso3      country hdicode region  hdi_rank_2021  hdi_1990  hdi_1991  \\\n",
       "0  AFG  Afghanistan     Low     SA          180.0     0.273     0.279   \n",
       "1  AGO       Angola  Medium    SSA          148.0       NaN       NaN   \n",
       "2  ALB      Albania    High    ECA           67.0     0.647     0.629   \n",
       "\n",
       "   hdi_1992  hdi_1993  hdi_1994  ...  mf_2012  mf_2013  mf_2014  mf_2015  \\\n",
       "0     0.287     0.297     0.292  ...     1.86     1.88     1.66     1.62   \n",
       "1       NaN       NaN       NaN  ...     4.09     4.53     3.97     3.59   \n",
       "2     0.614     0.617     0.624  ...    12.44    11.49    13.14    12.61   \n",
       "\n",
       "   mf_2016  mf_2017  mf_2018  mf_2019  mf_2020  mf_2021  \n",
       "0     1.66     1.41     1.32     1.38     1.38     1.38  \n",
       "1     2.79     2.64     2.28     2.18     2.18     2.18  \n",
       "2    14.39    14.46    12.85    12.96    12.96    12.96  \n",
       "\n",
       "[3 rows x 1008 columns]"
      ]
     },
     "execution_count": 3,
     "metadata": {},
     "output_type": "execute_result"
    }
   ],
   "source": [
    "hd = pd.read_csv(\"HDI.csv\")\n",
    "hd.head(3)"
   ]
  },
  {
   "cell_type": "code",
   "execution_count": 22,
   "id": "b29858b1",
   "metadata": {},
   "outputs": [
    {
     "data": {
      "text/plain": [
       "Index(['iso3', 'country', 'hdicode', 'region'], dtype='object')"
      ]
     },
     "execution_count": 22,
     "metadata": {},
     "output_type": "execute_result"
    }
   ],
   "source": [
    "hd.columns[:4]"
   ]
  },
  {
   "cell_type": "code",
   "execution_count": 26,
   "id": "1c9804ca",
   "metadata": {},
   "outputs": [],
   "source": [
    "hdi = pd.melt(hd, id_vars=hd.columns[:4], var_name='Hdi year', value_name='Index')"
   ]
  },
  {
   "cell_type": "code",
   "execution_count": 27,
   "id": "c2af633a",
   "metadata": {},
   "outputs": [
    {
     "data": {
      "text/html": [
       "<div>\n",
       "<style scoped>\n",
       "    .dataframe tbody tr th:only-of-type {\n",
       "        vertical-align: middle;\n",
       "    }\n",
       "\n",
       "    .dataframe tbody tr th {\n",
       "        vertical-align: top;\n",
       "    }\n",
       "\n",
       "    .dataframe thead th {\n",
       "        text-align: right;\n",
       "    }\n",
       "</style>\n",
       "<table border=\"1\" class=\"dataframe\">\n",
       "  <thead>\n",
       "    <tr style=\"text-align: right;\">\n",
       "      <th></th>\n",
       "      <th>iso3</th>\n",
       "      <th>country</th>\n",
       "      <th>hdicode</th>\n",
       "      <th>region</th>\n",
       "      <th>Hdi year</th>\n",
       "      <th>Index</th>\n",
       "    </tr>\n",
       "  </thead>\n",
       "  <tbody>\n",
       "    <tr>\n",
       "      <th>0</th>\n",
       "      <td>AFG</td>\n",
       "      <td>Afghanistan</td>\n",
       "      <td>Low</td>\n",
       "      <td>SA</td>\n",
       "      <td>hdi_rank_2021</td>\n",
       "      <td>180.0</td>\n",
       "    </tr>\n",
       "    <tr>\n",
       "      <th>1</th>\n",
       "      <td>AGO</td>\n",
       "      <td>Angola</td>\n",
       "      <td>Medium</td>\n",
       "      <td>SSA</td>\n",
       "      <td>hdi_rank_2021</td>\n",
       "      <td>148.0</td>\n",
       "    </tr>\n",
       "    <tr>\n",
       "      <th>2</th>\n",
       "      <td>ALB</td>\n",
       "      <td>Albania</td>\n",
       "      <td>High</td>\n",
       "      <td>ECA</td>\n",
       "      <td>hdi_rank_2021</td>\n",
       "      <td>67.0</td>\n",
       "    </tr>\n",
       "    <tr>\n",
       "      <th>3</th>\n",
       "      <td>AND</td>\n",
       "      <td>Andorra</td>\n",
       "      <td>Very High</td>\n",
       "      <td>NaN</td>\n",
       "      <td>hdi_rank_2021</td>\n",
       "      <td>40.0</td>\n",
       "    </tr>\n",
       "    <tr>\n",
       "      <th>4</th>\n",
       "      <td>ARE</td>\n",
       "      <td>United Arab Emirates</td>\n",
       "      <td>Very High</td>\n",
       "      <td>AS</td>\n",
       "      <td>hdi_rank_2021</td>\n",
       "      <td>26.0</td>\n",
       "    </tr>\n",
       "  </tbody>\n",
       "</table>\n",
       "</div>"
      ],
      "text/plain": [
       "  iso3               country    hdicode region       Hdi year  Index\n",
       "0  AFG           Afghanistan        Low     SA  hdi_rank_2021  180.0\n",
       "1  AGO                Angola     Medium    SSA  hdi_rank_2021  148.0\n",
       "2  ALB               Albania       High    ECA  hdi_rank_2021   67.0\n",
       "3  AND               Andorra  Very High    NaN  hdi_rank_2021   40.0\n",
       "4  ARE  United Arab Emirates  Very High     AS  hdi_rank_2021   26.0"
      ]
     },
     "execution_count": 27,
     "metadata": {},
     "output_type": "execute_result"
    }
   ],
   "source": [
    "hdi.head()"
   ]
  },
  {
   "cell_type": "code",
   "execution_count": 32,
   "id": "e6abc25f",
   "metadata": {},
   "outputs": [],
   "source": [
    "hdi[\"hdicode\"] = hdi[\"hdicode\"].fillna(\"Blank\")\n",
    "hdi[\"region\"] = hdi[\"region\"].fillna(\"Blank\")\n",
    "hdi[\"Index\"] = hdi[\"Index\"].fillna(0)"
   ]
  },
  {
   "cell_type": "code",
   "execution_count": 33,
   "id": "ccf6c07d",
   "metadata": {},
   "outputs": [
    {
     "data": {
      "text/plain": [
       "iso3        0\n",
       "country     0\n",
       "hdicode     0\n",
       "region      0\n",
       "Hdi year    0\n",
       "Index       0\n",
       "dtype: int64"
      ]
     },
     "execution_count": 33,
     "metadata": {},
     "output_type": "execute_result"
    }
   ],
   "source": [
    "hdi.isna().sum()"
   ]
  },
  {
   "cell_type": "code",
   "execution_count": 35,
   "id": "e4b4e271",
   "metadata": {},
   "outputs": [
    {
     "name": "stdout",
     "output_type": "stream",
     "text": [
      "<class 'pandas.core.frame.DataFrame'>\n",
      "RangeIndex: 12449 entries, 0 to 12448\n",
      "Data columns (total 15 columns):\n",
      " #   Column                                                        Non-Null Count  Dtype  \n",
      "---  ------                                                        --------------  -----  \n",
      " 0   Country Name                                                  12449 non-null  object \n",
      " 1   Country Code                                                  12449 non-null  object \n",
      " 2   Region                                                        12449 non-null  object \n",
      " 3   IncomeGroup                                                   12449 non-null  object \n",
      " 4   Year                                                          12449 non-null  int64  \n",
      " 5   Birth rate, crude (per 1,000 people)                          11440 non-null  float64\n",
      " 6   Death rate, crude (per 1,000 people)                          11416 non-null  float64\n",
      " 7   Electric power consumption (kWh per capita)                   5848 non-null   float64\n",
      " 8   GDP (USD)                                                     9578 non-null   float64\n",
      " 9   GDP per capita (USD)                                          9575 non-null   float64\n",
      " 10  Individuals using the Internet (% of population)              5064 non-null   float64\n",
      " 11  Infant mortality rate (per 1,000 live births)                 9984 non-null   float64\n",
      " 12  Life expectancy at birth (years)                              11176 non-null  float64\n",
      " 13  Population density (people per sq. km of land area)           11845 non-null  float64\n",
      " 14  Unemployment (% of total labor force) (modeled ILO estimate)  5208 non-null   float64\n",
      "dtypes: float64(10), int64(1), object(4)\n",
      "memory usage: 1.2+ MB\n"
     ]
    }
   ],
   "source": [
    "wd.info()"
   ]
  },
  {
   "cell_type": "code",
   "execution_count": 45,
   "id": "6306da83",
   "metadata": {},
   "outputs": [],
   "source": [
    "for i in wd.dtypes[wd.dtypes == 'float64'].index.tolist():\n",
    "    wd[i] = wd[i].fillna(0)"
   ]
  },
  {
   "cell_type": "code",
   "execution_count": 62,
   "id": "8a56cc3f",
   "metadata": {},
   "outputs": [
    {
     "name": "stdout",
     "output_type": "stream",
     "text": [
      "<class 'pandas.core.frame.DataFrame'>\n",
      "RangeIndex: 206824 entries, 0 to 206823\n",
      "Data columns (total 6 columns):\n",
      " #   Column    Non-Null Count   Dtype  \n",
      "---  ------    --------------   -----  \n",
      " 0   iso3      206824 non-null  object \n",
      " 1   country   206824 non-null  object \n",
      " 2   hdicode   206824 non-null  object \n",
      " 3   region    206824 non-null  object \n",
      " 4   Hdi year  206824 non-null  object \n",
      " 5   Index     206824 non-null  float64\n",
      "dtypes: float64(1), object(5)\n",
      "memory usage: 5.5+ MB\n"
     ]
    }
   ],
   "source": [
    "hdi.info()"
   ]
  },
  {
   "cell_type": "code",
   "execution_count": 69,
   "id": "001f3a5c",
   "metadata": {},
   "outputs": [],
   "source": [
    "# merge\n",
    "final_df = pd.merge(hdi,wd, left_on=\"country\", right_on=\"Country Name\")\n"
   ]
  },
  {
   "cell_type": "code",
   "execution_count": 60,
   "id": "d0358b03",
   "metadata": {},
   "outputs": [],
   "source": []
  },
  {
   "cell_type": "code",
   "execution_count": 63,
   "id": "ea9c8427",
   "metadata": {},
   "outputs": [
    {
     "data": {
      "text/plain": [
       "2574751976"
      ]
     },
     "execution_count": 63,
     "metadata": {},
     "output_type": "execute_result"
    }
   ],
   "source": [
    "12449*206824"
   ]
  },
  {
   "cell_type": "code",
   "execution_count": null,
   "id": "35de9074",
   "metadata": {},
   "outputs": [],
   "source": []
  }
 ],
 "metadata": {
  "kernelspec": {
   "display_name": "Python 3",
   "language": "python",
   "name": "python3"
  },
  "language_info": {
   "codemirror_mode": {
    "name": "ipython",
    "version": 3
   },
   "file_extension": ".py",
   "mimetype": "text/x-python",
   "name": "python",
   "nbconvert_exporter": "python",
   "pygments_lexer": "ipython3",
   "version": "3.8.8"
  }
 },
 "nbformat": 4,
 "nbformat_minor": 5
}
